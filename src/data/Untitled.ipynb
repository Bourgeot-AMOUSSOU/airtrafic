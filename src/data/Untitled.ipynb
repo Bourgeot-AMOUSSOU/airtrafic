{
 "cells": [
  {
   "cell_type": "code",
   "execution_count": 6,
   "id": "8af9dd79-9f6c-436c-9dc2-0f26fb16f472",
   "metadata": {},
   "outputs": [],
   "source": [
    "import pandas as pd\n",
    "import streamlit as st\n",
    "import plotly as plt\n",
    "import plotly.express as px\n",
    "import plotly.graph_objects as go\n",
    "import plotly.figure_factory as ff"
   ]
  },
  {
   "cell_type": "code",
   "execution_count": 7,
   "id": "ff353134-a08d-4884-81ab-9922d91c76a1",
   "metadata": {},
   "outputs": [
    {
     "data": {
      "text/plain": [
       "'5.9.0'"
      ]
     },
     "execution_count": 7,
     "metadata": {},
     "output_type": "execute_result"
    }
   ],
   "source": [
    "plt.__version__"
   ]
  },
  {
   "cell_type": "code",
   "execution_count": 13,
   "id": "07bad5a5-264a-4e8a-a9ed-fc8ff4d1782a",
   "metadata": {},
   "outputs": [
    {
     "name": "stdout",
     "output_type": "stream",
     "text": [
      "C:\\Users\\AMOUSSOU Messan\\Documents\\Projet_Mignot\\airtrafic\\src\\data\\.gitkeep\n",
      "C:\\Users\\AMOUSSOU Messan\\Documents\\Projet_Mignot\\airtrafic\\src\\data\\make_dataset.py\n",
      "C:\\Users\\AMOUSSOU Messan\\Documents\\Projet_Mignot\\airtrafic\\src\\data\\traffic_10lines.parquet\n",
      "C:\\Users\\AMOUSSOU Messan\\Documents\\Projet_Mignot\\airtrafic\\src\\data\\Untitled.ipynb\n",
      "C:\\Users\\AMOUSSOU Messan\\Documents\\Projet_Mignot\\airtrafic\\src\\data\\__init__.py\n",
      "C:\\Users\\AMOUSSOU Messan\\Documents\\Projet_Mignot\\airtrafic\\src\\data\\.ipynb_checkpoints\\Untitled-checkpoint.ipynb\n"
     ]
    }
   ],
   "source": [
    "import os\n",
    "for dirname, _, filenames in os.walk(os.getcwd()):    \n",
    "    for filename in filenames:       \n",
    "        print(os.path.join(dirname, filename))"
   ]
  },
  {
   "cell_type": "code",
   "execution_count": 17,
   "id": "af1627c7-984d-4652-ada0-e725196b5a46",
   "metadata": {},
   "outputs": [
    {
     "data": {
      "text/plain": [
       "'C:\\\\Users\\\\AMOUSSOU Messan\\\\Documents\\\\Projet_Mignot\\\\airtrafic\\\\src\\\\data'"
      ]
     },
     "execution_count": 17,
     "metadata": {},
     "output_type": "execute_result"
    }
   ],
   "source": [
    "os.getcwd()"
   ]
  },
  {
   "cell_type": "code",
   "execution_count": null,
   "id": "72e05e6a-760d-49ba-b775-7c0fa5ca21ed",
   "metadata": {},
   "outputs": [],
   "source": []
  }
 ],
 "metadata": {
  "kernelspec": {
   "display_name": "Python 3 (ipykernel)",
   "language": "python",
   "name": "python3"
  },
  "language_info": {
   "codemirror_mode": {
    "name": "ipython",
    "version": 3
   },
   "file_extension": ".py",
   "mimetype": "text/x-python",
   "name": "python",
   "nbconvert_exporter": "python",
   "pygments_lexer": "ipython3",
   "version": "3.9.13"
  }
 },
 "nbformat": 4,
 "nbformat_minor": 5
}
